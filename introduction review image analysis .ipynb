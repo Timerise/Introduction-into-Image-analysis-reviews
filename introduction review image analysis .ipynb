{
 "cells": [
  {
   "cell_type": "markdown",
   "metadata": {},
   "source": [
    "# $\\text{Review over image prediction methods using python 3}$\n",
    "\n",
    "$\\text{Written by EG Timerise (aka, Dr.E for those who kaggle).}$\n",
    "\n",
    "\n",
    "## pip install pathlib , in your cmd\n",
    "$\\text{You can install this from your cmd.}$\n",
    "\n",
    "$\\text{Its only on python 3 ,unless you do some some extra installing.}$\n",
    "\n",
    "$\\text{Pathlib is an object-oriented filesystem pathway library.}$\n",
    "\n",
    "https://docs.python.org/3/library/pathlib.html\n",
    "\n",
    "$\\text{Its a cleaner way to code, sometimes.}$ \n",
    "\n",
    "## Using the subclass Path\n",
    "\n",
    "$\\text{From the link given above , we know Paths are a subclass of pure paths}$\n",
    "\n",
    "$\\text{pure path classes don't give operations to access a filesystem.}$\n",
    "\n",
    "$\\text{Although you can access a pure path by using whats called a 'flavours' , which is going off top.}$\n",
    "\n",
    "$\\text{Paths ,which are subsets of pure path classes, do have methods for interacting with path objects.}$\n",
    "\n",
    "$\\text{Read more about all of this from the link give or search it on the web.}$\n",
    "\n",
    "\n",
    "## openCV \n",
    "\n",
    "$\\text{Opencv is a library thats been around for more than ten years.}$\n",
    "\n",
    "$\\text{We can use cv2 to conduct image analysis, which is apart of the opencv library.}$\n",
    "\n",
    "## some ways to possibly  install opencv:\n",
    "\n",
    "$\\text{You can use the following in cmd.}$ \n",
    "\n",
    "$\\text{:   pip install opencv-python}$\n",
    "\n",
    "$\\text{Or you search the web to install it in the anaconda prompt, cant recall the line I used.(asumming your using anaconda).}$\n",
    "\n",
    "$\\text{It was something like:  anaconda install -c conda-forge opencv}$\n",
    "\n",
    "## lets get coding !"
   ]
  },
  {
   "cell_type": "code",
   "execution_count": 1,
   "metadata": {},
   "outputs": [],
   "source": [
    "import numpy as np  # for high-level math functions \n",
    "import pandas as pd  # for data frames\n",
    "from pathlib import Path # for cleaner coding object-oriented filesystem\n",
    "import cv2 # for playing around with images1\n",
    "\n",
    "## There are a ton of libraries that can be used instead of opencv, like imageio \n",
    "## from review, I know imageio has a function called mimread() which can read images at once\n",
    "## Anyway......\n",
    "## Lets try to use some of the old stuff first, not sure if it really matters"
   ]
  },
  {
   "cell_type": "code",
   "execution_count": 2,
   "metadata": {},
   "outputs": [],
   "source": [
    "train_images=Path(r'C:\\Users\\dragon\\Desktop\\Data_set_locations\\TGS Salt Identification Challenge\\images').glob('*.png')\n",
    "train_masks=Path(r'C:\\Users\\dragon\\Desktop\\Data_set_locations\\TGS Salt Identification Challenge\\masks').glob('*.png')\n",
    "## .glob('*.png'), returns an iterator of files in a directory using shell pattern matching.\n",
    "## a good resource for more detail about it \n",
    "## https://everydayscripting.wordpress.com/2008/12/24/pythons-glob-module-is-really-cool/                                                                                                      "
   ]
  },
  {
   "cell_type": "code",
   "execution_count": 3,
   "metadata": {},
   "outputs": [
    {
     "data": {
      "text/plain": [
       "generator"
      ]
     },
     "execution_count": 3,
     "metadata": {},
     "output_type": "execute_result"
    }
   ],
   "source": [
    "type(train_images)"
   ]
  },
  {
   "cell_type": "code",
   "execution_count": 4,
   "metadata": {},
   "outputs": [
    {
     "data": {
      "text/plain": [
       "generator"
      ]
     },
     "execution_count": 4,
     "metadata": {},
     "output_type": "execute_result"
    }
   ],
   "source": [
    "type(train_masks)"
   ]
  },
  {
   "cell_type": "markdown",
   "metadata": {},
   "source": [
    "$\\text{So train is a generator , which can only be iterated over once , due to .glob('*.png')}$\n",
    "\n",
    "$\\text{This is really useful,since all the images are in different files.}$\n"
   ]
  },
  {
   "cell_type": "code",
   "execution_count": 5,
   "metadata": {},
   "outputs": [],
   "source": [
    "tr_image_path=[i for i in train_images]\n",
    "tr_masks_path=[i for i in train_masks]\n",
    "## both masks and image directories look to be matched \n",
    "## the masks is we would consider the response"
   ]
  },
  {
   "cell_type": "code",
   "execution_count": 6,
   "metadata": {},
   "outputs": [
    {
     "data": {
      "text/plain": [
       "4000"
      ]
     },
     "execution_count": 6,
     "metadata": {},
     "output_type": "execute_result"
    }
   ],
   "source": [
    "len(tr_image_path)"
   ]
  },
  {
   "cell_type": "code",
   "execution_count": 7,
   "metadata": {},
   "outputs": [
    {
     "data": {
      "text/plain": [
       "4000"
      ]
     },
     "execution_count": 7,
     "metadata": {},
     "output_type": "execute_result"
    }
   ],
   "source": [
    "len(tr_masks_path)"
   ]
  },
  {
   "cell_type": "markdown",
   "metadata": {},
   "source": [
    "$\\text{Now we have set up a data frame to point to each image.}$\n",
    "\n",
    "$\\text{Lets view some images!}$"
   ]
  },
  {
   "cell_type": "code",
   "execution_count": null,
   "metadata": {},
   "outputs": [],
   "source": [
    "train=cv2.imread(str(tr_image_path[1]))\n",
    "cv2.namedWindow('First_image',cv2.WINDOW_AUTOSIZE)\n",
    "cv2.imshow('First_image',train)\n",
    "cv2.waitKey(0)\n",
    "cv2.destroyWindow('First_image')\n",
    "#response=cv2.imread(str(tr_masks_path[1]))"
   ]
  },
  {
   "cell_type": "markdown",
   "metadata": {},
   "source": [
    "$\\text{Will update and add more information later on.}$\n",
    "\n",
    "$\\text{By no means finish!}$"
   ]
  },
  {
   "cell_type": "code",
   "execution_count": null,
   "metadata": {},
   "outputs": [],
   "source": []
  }
 ],
 "metadata": {
  "kernelspec": {
   "display_name": "Python 3",
   "language": "python",
   "name": "python3"
  },
  "language_info": {
   "codemirror_mode": {
    "name": "ipython",
    "version": 3
   },
   "file_extension": ".py",
   "mimetype": "text/x-python",
   "name": "python",
   "nbconvert_exporter": "python",
   "pygments_lexer": "ipython3",
   "version": "3.6.4"
  }
 },
 "nbformat": 4,
 "nbformat_minor": 2
}
